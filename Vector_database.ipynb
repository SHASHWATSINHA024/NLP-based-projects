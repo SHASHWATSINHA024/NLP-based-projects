{
  "cells": [
    {
      "cell_type": "code",
      "execution_count": 5,
      "metadata": {
        "colab": {
          "base_uri": "https://localhost:8080/"
        },
        "id": "ljphnDOpwIDE",
        "outputId": "8d8ccd5e-e84f-4f5f-dc77-644e6a65d050"
      },
      "outputs": [
        {
          "name": "stdout",
          "output_type": "stream",
          "text": [
            "Requirement already satisfied: mistralai in /usr/local/lib/python3.10/dist-packages (0.4.1)\n",
            "Requirement already satisfied: httpx<1,>=0.25 in /usr/local/lib/python3.10/dist-packages (from mistralai) (0.27.0)\n",
            "Requirement already satisfied: orjson<3.11,>=3.9.10 in /usr/local/lib/python3.10/dist-packages (from mistralai) (3.10.5)\n",
            "Requirement already satisfied: pydantic<3,>=2.5.2 in /usr/local/lib/python3.10/dist-packages (from mistralai) (2.7.4)\n",
            "Requirement already satisfied: anyio in /usr/local/lib/python3.10/dist-packages (from httpx<1,>=0.25->mistralai) (3.7.1)\n",
            "Requirement already satisfied: certifi in /usr/local/lib/python3.10/dist-packages (from httpx<1,>=0.25->mistralai) (2024.6.2)\n",
            "Requirement already satisfied: httpcore==1.* in /usr/local/lib/python3.10/dist-packages (from httpx<1,>=0.25->mistralai) (1.0.5)\n",
            "Requirement already satisfied: idna in /usr/local/lib/python3.10/dist-packages (from httpx<1,>=0.25->mistralai) (3.7)\n",
            "Requirement already satisfied: sniffio in /usr/local/lib/python3.10/dist-packages (from httpx<1,>=0.25->mistralai) (1.3.1)\n",
            "Requirement already satisfied: h11<0.15,>=0.13 in /usr/local/lib/python3.10/dist-packages (from httpcore==1.*->httpx<1,>=0.25->mistralai) (0.14.0)\n",
            "Requirement already satisfied: annotated-types>=0.4.0 in /usr/local/lib/python3.10/dist-packages (from pydantic<3,>=2.5.2->mistralai) (0.7.0)\n",
            "Requirement already satisfied: pydantic-core==2.18.4 in /usr/local/lib/python3.10/dist-packages (from pydantic<3,>=2.5.2->mistralai) (2.18.4)\n",
            "Requirement already satisfied: typing-extensions>=4.6.1 in /usr/local/lib/python3.10/dist-packages (from pydantic<3,>=2.5.2->mistralai) (4.12.2)\n",
            "Requirement already satisfied: exceptiongroup in /usr/local/lib/python3.10/dist-packages (from anyio->httpx<1,>=0.25->mistralai) (1.2.1)\n"
          ]
        }
      ],
      "source": [
        "!pip install mistralai"
      ]
    },
    {
      "cell_type": "code",
      "execution_count": 6,
      "metadata": {
        "colab": {
          "base_uri": "https://localhost:8080/"
        },
        "id": "feH89u4Zwagz",
        "outputId": "46c970a9-2c28-4224-98e9-4d04b5a7c587"
      },
      "outputs": [
        {
          "name": "stdout",
          "output_type": "stream",
          "text": [
            "Requirement already satisfied: faiss-cpu in /usr/local/lib/python3.10/dist-packages (1.8.0.post1)\n",
            "Requirement already satisfied: numpy<2.0,>=1.0 in /usr/local/lib/python3.10/dist-packages (from faiss-cpu) (1.25.2)\n",
            "Requirement already satisfied: packaging in /usr/local/lib/python3.10/dist-packages (from faiss-cpu) (24.1)\n"
          ]
        }
      ],
      "source": [
        "!pip install faiss-cpu"
      ]
    },
    {
      "cell_type": "code",
      "execution_count": 7,
      "metadata": {
        "id": "2s5--YcKtPJ_"
      },
      "outputs": [],
      "source": [
        "from mistralai.client import MistralClient\n",
        "from mistralai.models.chat_completion import ChatMessage\n",
        "import numpy as np\n",
        "import os"
      ]
    },
    {
      "cell_type": "code",
      "execution_count": 8,
      "metadata": {
        "id": "B6DlgGIvtRPU"
      },
      "outputs": [],
      "source": [
        "f = open('essay.txt', 'r')\n",
        "t=f.read()\n",
        "f.close()"
      ]
    },
    {
      "cell_type": "code",
      "execution_count": 9,
      "metadata": {
        "colab": {
          "base_uri": "https://localhost:8080/",
          "height": 192
        },
        "id": "Z_htTSA-uG9F",
        "outputId": "5811db5f-ef93-48c0-f5b2-6788022ae9d5"
      },
      "outputs": [
        {
          "data": {
            "application/vnd.google.colaboratory.intrinsic+json": {
              "type": "string"
            },
            "text/plain": [
              "'The Indian Independence Act 1947 (10 & 11 Geo. 6. c. 30) is an act of the Parliament of the United Kingdom that partitioned British India into the two new independent dominions of India and Pakistan. The Act received Royal Assent on 18 July 1947 and thus modern-day India and Pakistan, comprising west (modern day Pakistan) and east (modern day Bangladesh) regions, came into being on 15 August.[1][a]\\n\\nThe legislature representatives of the Indian National Congress,[2] the Muslim League,[3] and the Sikh community[4] came to an agreement with Lord Mountbatten, then Viceroy and Governor-General of India, on what has come to be known as the 3 June Plan or Mountbatten Plan. This plan was the last plan for independence..\\n\\nPrelude\\nAttlee\\'s announcement\\nClement Attlee, the Prime Minister of the United Kingdom, announced on 20 February 1947 that:\\n\\nThe British Government would grant full self-government to British India by 30 June 1948 at the latest,\\nThe future of the Princely States would be decided after the date of final transfer is decided.[5]\\nThird June Plan\\nThe 3rd June 1947 Plan was also known as the Mountbatten Plan. The British government proposed a plan, announced on 3 June 1947, that included these principles:\\n\\nPrinciple of the partition of British India was accepted by the British Government\\nSuccessor governments would be given dominion status\\nAutonomy and sovereignty to both countries\\nCan make their own constitution\\nPrincely states were given the right to join either India or Pakistan (with no option to remain independent), based on two major factors: geographical contiguity and the people\\'s wishes.[6][7]\\nProvisions\\nThe Act\\'s most important provisions were:\\n\\nDivision of British India into the two new dominions – the Dominion of India and the Dominion of Pakistan – with effect from 15 August 1947;\\nPartition of the provinces of Bengal and Punjab between the two new countries;\\nEstablishment of the office of Governor-General in each of the two new countries, as representatives of the Crown;\\nConferral of complete legislative authority upon the respective Constituent Assemblies of the two new countries;\\nTermination of British suzerainty over the princely states, with effect from 15 August 1947. These states could decide to join either India or Pakistan;[8][9]\\nAbolition of the use of the title \"Emperor of India\" by the British monarch (this was subsequently executed by King George VI by royal proclamation on 22 June 1948);\\nThe Act also made provision for the division of joint property, etc. between the two new countries, including in particular the division of the armed forces.\\n\\nSalient features\\nTwo new dominion states: Two new dominions were to emerge from the Indian empire: India and Pakistan.\\nAppointed Date: 15 August 1947 was declared as the appointed date for the partition.\\nTerritories:\\nPakistan: East Bengal, West Punjab, Sindh, and Chief Commissioner\\'s Province of Baluchistan.\\nThe fate of the North-West Frontier Province (now Khyber Pakhtunkhwa) was subject to the result of a referendum.\\nBengal & Assam:\\nThe province of Bengal as constituted under the Government of India Act 1935 ceased to exist.\\nIn lieu thereof two new provinces were to be constituted, to be known respectively as East Bengal and West Bengal.\\nThe fate of District Sylhet, in the province of Assam, was to be decided in a referendum.\\nPunjab:\\nThe province as constituted under the Government of India Act 1935 ceased to exist.\\nTwo new provinces were to be constituted, to be known respectively as West Punjab and East Punjab.\\nThe boundaries of the new provinces were to be determined, whether before or after the appointed date, by the award of a boundary commission to be appointed by the Governor-General.\\nConstitution for the New Dominions: until the time of the making of the new constitution, the new dominions and the provinces thereof were to be governed by the Government of India Act 1935. (Temporary Provisions as to the Government of Each New Dominion).\\nThe Governors-General of the new dominions:\\nFor each of the new dominions a new Governor-General was to be appointed by the Crown, subject to the law of the legislature of either of the new dominions.\\nSame person as Governor-General of both dominions: if unless and until provision to the contrary was made by a law of the legislature of either of the new dominions, the same person could be the Governor-General of both.\\nPowers of Governor-General: (Section-9)\\nThe Governor-General was empowered to bring this Act into force.\\nDivision of territories, powers, duties, rights, assets, liabilities, etc., was the responsibility of Governor General.\\nTo adopt, amend, Government of India Act 1935, as the Governor-General may consider it necessary.\\npower to introduce any change was until 31 March 1948, after that it was open to the constituent assembly to modify or adopt the same Act. (Temporary Provisions as to the Government of Each New Dominion.)\\nGovernor-General had full powers to give assent to any law.\\nLegislation for the new dominions:\\nThe existing legislative setup was allowed to continue as Constitution making body as well as a legislature. (Temporary Provisions as to the Government of Each New Dominion.)\\nThe legislature of each dominion was given full powers to make laws for that dominion, including laws having extraterritorial operation.\\nNo Act of Parliament of UK passed after the appointed date would be extended to the territories of new dominions.\\nNo law and provision of any law made by the legislature of the new dominions shall be void or inoperative on the ground that it is repugnant to the law of England.\\nThe Governor-General of each dominion had full powers to give assent in His Majesty\\'s name to any law of the legislature. [Configuration of Pakistan\\'s Constitution Assembly (CAP I): 69 members of the central legislature + 10 immigrant members= 79].\\nConsequences of setting up of the new dominions:\\nHis Majesty\\'s Government lost all the responsibility to the new dominions.\\nThe suzerainty of His Majesty\\'s Government over the Indian States lapsed.\\nAll the treaties or agreements with the Indian States and the tribal areas that were in force at the passing of the act lapsed.\\nThe title of \"Emperor of India\" was dropped from the titles of British Crown.\\nThe office of Secretary of State for India was abolished and the provisions of GOI Act 1935 relating to the appointments to the civil service or civil posts under the crown by the secretary of the state ceased to operate.\\nCivil servants: Section 10 provided for the continuance of service of the government servants appointed on or before 15 August 1947 under the Governments of new Dominions with full benefits.\\nArmed Forces: Sections 11, 12, and 13 dealt with the future of the Indian armed forces. A Partition Committee was formed on 7 June 1947, with two representatives from each side and the viceroy in the chair, to decide about the division thereof. As soon as the process of partition was to start it was to be replaced by a Partition Council with a similar structure.\\nFirst and Second Schedules:\\nFirst Schedule listed the districts provisionally included in the new province of East Bengal:\\nChittagong Division: Districts of Chittagong, Chittagong Hill Tracts, Noakhali and Tipperah.\\nDacca Division: Districts of Bakarganj, Dacca, Faridpur, and Mymensingh.\\nPresidency Division: Districts of Jessore (except Bangaon Tehsil), and Kustia and Meherpur Tehsils (of Nadia district).\\nRajshahi Division:Districts of Bogra, Dinajpur (except Raiganj and Balurghat Tehsil), Rajshahi, Rangpur and Nawabganj Tehsil (of Malda district).\\nSecond Schedule listed the districts provisionally included in the new province of West Punjab:\\nLahore Division: Districts of Gujranwala, Lahore (except Patti Tehsil), Sheikhupura, Sialkot and Shakargarh Tehsil (of Gurdaspur district).\\nRawalpindi Division: Districts of Attock, Gujrat, Jehlum, Rawalpindi and Shahpur.\\nMultan Division: Districts of Dera Ghazi Khan, Jhang, Lyallpur, Montgomery, Multan and Muzaffargarh.[10]\\nPartition\\nMain articles: Partition of India and Radcliffe Line\\nThere was much violence, and many Muslims from what would become India fled to Pakistan; and Hindus and Sikhs from what would become Pakistan fled to India. Many people left behind all their possessions and property to avoid the violence and flee to their new country.[11]\\n\\nPrincely states\\n\\nThe territory of British India partitioned between India (red) and Pakistan (green). The remaining unshaded areas were princely states.\\nMain articles: Princely states of Pakistan and Princely states of India\\nOn 25 July 1947, Mountbatten held a meeting with the Chamber of Princes, where he addressed the question of the princely states, of which there were 562. The treaty relations between Britain and the Indian States would come to an end, and on 15 August 1947 the suzerainty of the British Crown was to lapse. Mountbatten ruled out any dominion status for any of the princely states, and advised them to accede to one or the other of the dominions, India and Pakistan. Though it was technically possible for the states to remain free after 15 August, their dependence on the British government of India for defence, foreign affairs, communication and other matters rendered such freedom meaningless.[12][13]\\n\\nIndia\\nFurther information: Princely states of India and Political integration of India\\nLord Mountbatten continued as the first Governor General of independent India. Jawaharlal Nehru became the prime minister and Vallabhbhai Patel became the home minister.\\n\\nOver 550 princely states, almost all of the states contiguous with the territory of India, acceded to India by 15 August. The exceptions were Junagadh, Hyderabad, and Jammu and Kashmir.\\n\\nThe state of Jammu and Kashmir was contiguous to both India and Pakistan, but its Hindu ruler chose to remain independent (in status quo) \"for the time being\". Following a Pakistani tribal invasion, he acceded to India on 26 October 1947, and the state was disputed between India and Pakistan.[14]\\n\\nThe state of Junagadh initially acceded to Pakistan but faced a revolt from its Hindu population. India considered the accession of Junagadh invalid because it violated the principle of geographical contiguity of the partition, but Pakistan claimed that the maritime border of Junagadh is connected to Pakistan. Following a breakdown of law and order, its Dewan requested India to take over the administration on 8 November 1947. India conducted a referendum in the state on 20 February 1948, in which the people voted overwhelmingly to join India.\\n\\nThe state of Hyderabad had a majority Hindu population but also a Muslim ruler with a large Muslim minority. The Nizam of Hyderabad wanted to get Dominion status. Hyderabad elected to maintain its independence and lobbied internationally for recognition. However, it faced the pro-communist Telangana Rebellion and agitation by Indian nationalists opposed to its independence. On 13 September 1948, the Indian government launched an invasion of Hyderabad called Operation Polo. The Hyderabadi military was defeated over five days of fighting. With his state about to be over run, the Nizam signed the Instrument of Accession, joining India. The formal integration of Hyderabad into the dominion of India took place much later on January 25, 1950, when the Nizam signed the Instrument of Accession with the central government. A day later, as India became a republic on January 26, the Nizam took over as the Raj Pramukh or governor.\\n\\nPakistan\\nFurther information: Princely states of Pakistan\\nMuhammad Ali Jinnah became the Governor-General of Pakistan, and Liaquat Ali Khan became the Prime Minister of Pakistan.\\n\\nBetween October 1947 and March 1948 the rulers of several Muslim-majority states signed instruments of accession to join Pakistan. These included Amb, Bahawalpur, Chitral, Dir, Kalat, Khairpur, Kharan, Las Bela, Makran, and Swat.[15][16] The Khanate of Kalat initially elected to resume its independence, until 27 March 1948 when its ruler acceded to Pakistan.\\n\\nRepeal\\nThe Indian Independence Act was subsequently repealed in Article 395 of the Constitution of India and in Article 221 of the Constitution of Pakistan of 1956,[17] both constitutions being intended to bring about greater independence for the new states. Although under British law, the new constitutions did not have the legal authority to repeal the Act, the repeal was intended to establish them as independent legal systems based only on home-grown legislation.[18] The Act has not been repealed in the United Kingdom, where it still has an effect, although some sections of it have been repealed.'"
            ]
          },
          "execution_count": 9,
          "metadata": {},
          "output_type": "execute_result"
        }
      ],
      "source": [
        "\n",
        "t"
      ]
    },
    {
      "cell_type": "markdown",
      "metadata": {
        "id": "8wEHZ2D8ubRm"
      },
      "source": [
        "generating chunks  out of text corpora"
      ]
    },
    {
      "cell_type": "code",
      "execution_count": 10,
      "metadata": {
        "colab": {
          "base_uri": "https://localhost:8080/"
        },
        "id": "4zKgSLRBuWAf",
        "outputId": "3b697c17-6f99-43fa-993a-131cc123eff6"
      },
      "outputs": [
        {
          "name": "stdout",
          "output_type": "stream",
          "text": [
            "Number of chunks: 34\n",
            "Chunk 1: The Indian Independence Act 1947 (10 & 11 Geo. 6. c.\n",
            "Chunk 2: 30) is an act of the Parliament of the United Kingdom that partitioned British India into the two new independent dominions of India and Pakistan.\n",
            "Chunk 3: The Act received Royal Assent on 18 July 1947 and thus modern-day India and Pakistan, comprising west (modern day Pakistan) and east (modern day Bangladesh) regions, came into being on 15 August.[1][a]\n",
            "\n",
            "The legislature representatives of the Indian National Congress,[2] the Muslim League,[3] and the Sikh community[4] came to an agreement with Lord Mountbatten, then Viceroy and Governor-General of India, on what has come to be known as the 3 June Plan or Mountbatten Plan.\n",
            "Chunk 4: This plan was the last plan for independence..\n",
            "\n",
            "Prelude\n",
            "Attlee's announcement\n",
            "Clement Attlee, the Prime Minister of the United Kingdom, announced on 20 February 1947 that:\n",
            "\n",
            "The British Government would grant full self-government to British India by 30 June 1948 at the latest,\n",
            "The future of the Princely States would be decided after the date of final transfer is decided.[5]\n",
            "Third June Plan\n",
            "The 3rd June 1947 Plan was also known as the Mountbatten Plan.\n",
            "Chunk 5: The British government proposed a plan, announced on 3 June 1947, that included these principles:\n",
            "\n",
            "Principle of the partition of British India was accepted by the British Government\n",
            "Successor governments would be given dominion status\n",
            "Autonomy and sovereignty to both countries\n",
            "Can make their own constitution\n",
            "Princely states were given the right to join either India or Pakistan (with no option to remain independent), based on two major factors: geographical contiguity and the people's wishes.[6][7]\n",
            "Provisions\n",
            "The Act's most important provisions were:\n",
            "\n",
            "Division of British India into the two new dominions – the Dominion of India and the Dominion of Pakistan – with effect from 15 August 1947;\n",
            "Partition of the provinces of Bengal and Punjab between the two new countries;\n",
            "Establishment of the office of Governor-General in each of the two new countries, as representatives of the Crown;\n",
            "Conferral of complete legislative authority upon the respective Constituent Assemblies of the two new countries;\n",
            "Termination of British suzerainty over the princely states, with effect from 15 August 1947.\n",
            "Chunk 6: These states could decide to join either India or Pakistan;[8][9]\n",
            "Abolition of the use of the title \"Emperor of India\" by the British monarch (this was subsequently executed by King George VI by royal proclamation on 22 June 1948);\n",
            "The Act also made provision for the division of joint property, etc.\n",
            "Chunk 7: between the two new countries, including in particular the division of the armed forces.\n",
            "\n",
            "Salient features\n",
            "Two new dominion states: Two new dominions were to emerge from the Indian empire: India and Pakistan.\n",
            "Appointed Date: 15 August 1947 was declared as the appointed date for the partition.\n",
            "Territories:\n",
            "Pakistan: East Bengal, West Punjab, Sindh, and Chief Commissioner's Province of Baluchistan.\n",
            "The fate of the North-West Frontier Province (now Khyber Pakhtunkhwa) was subject to the result of a referendum.\n",
            "Bengal & Assam:\n",
            "The province of Bengal as constituted under the Government of India Act 1935 ceased to exist.\n",
            "In lieu thereof two new provinces were to be constituted, to be known respectively as East Bengal and West Bengal.\n",
            "The fate of District Sylhet, in the province of Assam, was to be decided in a referendum.\n",
            "Punjab:\n",
            "The province as constituted under the Government of India Act 1935 ceased to exist.\n",
            "Two new provinces were to be constituted, to be known respectively as West Punjab and East Punjab.\n",
            "The boundaries of the new provinces were to be determined, whether before or after the appointed date, by the award of a boundary commission to be appointed by the Governor-General.\n",
            "Constitution for the New Dominions: until the time of the making of the new constitution, the new dominions and the provinces thereof were to be governed by the Government of India Act 1935.\n",
            "Chunk 8: (Temporary Provisions as to the Government of Each New Dominion).\n",
            "The Governors-General of the new dominions:\n",
            "For each of the new dominions a new Governor-General was to be appointed by the Crown, subject to the law of the legislature of either of the new dominions.\n",
            "Same person as Governor-General of both dominions: if unless and until provision to the contrary was made by a law of the legislature of either of the new dominions, the same person could be the Governor-General of both.\n",
            "Powers of Governor-General: (Section-9)\n",
            "The Governor-General was empowered to bring this Act into force.\n",
            "Division of territories, powers, duties, rights, assets, liabilities, etc., was the responsibility of Governor General.\n",
            "To adopt, amend, Government of India Act 1935, as the Governor-General may consider it necessary.\n",
            "power to introduce any change was until 31 March 1948, after that it was open to the constituent assembly to modify or adopt the same Act.\n",
            "Chunk 9: (Temporary Provisions as to the Government of Each New Dominion.)\n",
            "Governor-General had full powers to give assent to any law.\n",
            "Legislation for the new dominions:\n",
            "The existing legislative setup was allowed to continue as Constitution making body as well as a legislature.\n",
            "Chunk 10: (Temporary Provisions as to the Government of Each New Dominion.)\n",
            "The legislature of each dominion was given full powers to make laws for that dominion, including laws having extraterritorial operation.\n",
            "No Act of Parliament of UK passed after the appointed date would be extended to the territories of new dominions.\n",
            "No law and provision of any law made by the legislature of the new dominions shall be void or inoperative on the ground that it is repugnant to the law of England.\n",
            "The Governor-General of each dominion had full powers to give assent in His Majesty's name to any law of the legislature.\n",
            "Chunk 11: [Configuration of Pakistan's Constitution Assembly (CAP I): 69 members of the central legislature + 10 immigrant members= 79].\n",
            "Consequences of setting up of the new dominions:\n",
            "His Majesty's Government lost all the responsibility to the new dominions.\n",
            "The suzerainty of His Majesty's Government over the Indian States lapsed.\n",
            "All the treaties or agreements with the Indian States and the tribal areas that were in force at the passing of the act lapsed.\n",
            "The title of \"Emperor of India\" was dropped from the titles of British Crown.\n",
            "The office of Secretary of State for India was abolished and the provisions of GOI Act 1935 relating to the appointments to the civil service or civil posts under the crown by the secretary of the state ceased to operate.\n",
            "Civil servants: Section 10 provided for the continuance of service of the government servants appointed on or before 15 August 1947 under the Governments of new Dominions with full benefits.\n",
            "Armed Forces: Sections 11, 12, and 13 dealt with the future of the Indian armed forces.\n",
            "Chunk 12: A Partition Committee was formed on 7 June 1947, with two representatives from each side and the viceroy in the chair, to decide about the division thereof.\n",
            "Chunk 13: As soon as the process of partition was to start it was to be replaced by a Partition Council with a similar structure.\n",
            "First and Second Schedules:\n",
            "First Schedule listed the districts provisionally included in the new province of East Bengal:\n",
            "Chittagong Division: Districts of Chittagong, Chittagong Hill Tracts, Noakhali and Tipperah.\n",
            "Dacca Division: Districts of Bakarganj, Dacca, Faridpur, and Mymensingh.\n",
            "Presidency Division: Districts of Jessore (except Bangaon Tehsil), and Kustia and Meherpur Tehsils (of Nadia district).\n",
            "Rajshahi Division:Districts of Bogra, Dinajpur (except Raiganj and Balurghat Tehsil), Rajshahi, Rangpur and Nawabganj Tehsil (of Malda district).\n",
            "Second Schedule listed the districts provisionally included in the new province of West Punjab:\n",
            "Lahore Division: Districts of Gujranwala, Lahore (except Patti Tehsil), Sheikhupura, Sialkot and Shakargarh Tehsil (of Gurdaspur district).\n",
            "Rawalpindi Division: Districts of Attock, Gujrat, Jehlum, Rawalpindi and Shahpur.\n",
            "Multan Division: Districts of Dera Ghazi Khan, Jhang, Lyallpur, Montgomery, Multan and Muzaffargarh.[10]\n",
            "Partition\n",
            "Main articles: Partition of India and Radcliffe Line\n",
            "There was much violence, and many Muslims from what would become India fled to Pakistan; and Hindus and Sikhs from what would become Pakistan fled to India.\n",
            "Chunk 14: Many people left behind all their possessions and property to avoid the violence and flee to their new country.[11]\n",
            "\n",
            "Princely states\n",
            "\n",
            "The territory of British India partitioned between India (red) and Pakistan (green).\n",
            "Chunk 15: The remaining unshaded areas were princely states.\n",
            "Main articles: Princely states of Pakistan and Princely states of India\n",
            "On 25 July 1947, Mountbatten held a meeting with the Chamber of Princes, where he addressed the question of the princely states, of which there were 562.\n",
            "Chunk 16: The treaty relations between Britain and the Indian States would come to an end, and on 15 August 1947 the suzerainty of the British Crown was to lapse.\n",
            "Chunk 17: Mountbatten ruled out any dominion status for any of the princely states, and advised them to accede to one or the other of the dominions, India and Pakistan.\n",
            "Chunk 18: Though it was technically possible for the states to remain free after 15 August, their dependence on the British government of India for defence, foreign affairs, communication and other matters rendered such freedom meaningless.[12][13]\n",
            "\n",
            "India\n",
            "Further information: Princely states of India and Political integration of India\n",
            "Lord Mountbatten continued as the first Governor General of independent India.\n",
            "Chunk 19: Jawaharlal Nehru became the prime minister and Vallabhbhai Patel became the home minister.\n",
            "\n",
            "Over 550 princely states, almost all of the states contiguous with the territory of India, acceded to India by 15 August.\n",
            "Chunk 20: The exceptions were Junagadh, Hyderabad, and Jammu and Kashmir.\n",
            "\n",
            "The state of Jammu and Kashmir was contiguous to both India and Pakistan, but its Hindu ruler chose to remain independent (in status quo) \"for the time being\".\n",
            "Chunk 21: Following a Pakistani tribal invasion, he acceded to India on 26 October 1947, and the state was disputed between India and Pakistan.[14]\n",
            "\n",
            "The state of Junagadh initially acceded to Pakistan but faced a revolt from its Hindu population.\n",
            "Chunk 22: India considered the accession of Junagadh invalid because it violated the principle of geographical contiguity of the partition, but Pakistan claimed that the maritime border of Junagadh is connected to Pakistan.\n",
            "Chunk 23: Following a breakdown of law and order, its Dewan requested India to take over the administration on 8 November 1947.\n",
            "Chunk 24: India conducted a referendum in the state on 20 February 1948, in which the people voted overwhelmingly to join India.\n",
            "\n",
            "The state of Hyderabad had a majority Hindu population but also a Muslim ruler with a large Muslim minority.\n",
            "Chunk 25: The Nizam of Hyderabad wanted to get Dominion status.\n",
            "Chunk 26: Hyderabad elected to maintain its independence and lobbied internationally for recognition.\n",
            "Chunk 27: However, it faced the pro-communist Telangana Rebellion and agitation by Indian nationalists opposed to its independence.\n",
            "Chunk 28: On 13 September 1948, the Indian government launched an invasion of Hyderabad called Operation Polo.\n",
            "Chunk 29: The Hyderabadi military was defeated over five days of fighting.\n",
            "Chunk 30: With his state about to be over run, the Nizam signed the Instrument of Accession, joining India.\n",
            "Chunk 31: The formal integration of Hyderabad into the dominion of India took place much later on January 25, 1950, when the Nizam signed the Instrument of Accession with the central government.\n",
            "Chunk 32: A day later, as India became a republic on January 26, the Nizam took over as the Raj Pramukh or governor.\n",
            "\n",
            "Pakistan\n",
            "Further information: Princely states of Pakistan\n",
            "Muhammad Ali Jinnah became the Governor-General of Pakistan, and Liaquat Ali Khan became the Prime Minister of Pakistan.\n",
            "\n",
            "Between October 1947 and March 1948 the rulers of several Muslim-majority states signed instruments of accession to join Pakistan.\n",
            "Chunk 33: These included Amb, Bahawalpur, Chitral, Dir, Kalat, Khairpur, Kharan, Las Bela, Makran, and Swat.[15][16] The Khanate of Kalat initially elected to resume its independence, until 27 March 1948 when its ruler acceded to Pakistan.\n",
            "\n",
            "Repeal\n",
            "The Indian Independence Act was subsequently repealed in Article 395 of the Constitution of India and in Article 221 of the Constitution of Pakistan of 1956,[17] both constitutions being intended to bring about greater independence for the new states.\n",
            "Chunk 34: Although under British law, the new constitutions did not have the legal authority to repeal the Act, the repeal was intended to establish them as independent legal systems based only on home-grown legislation.[18] The Act has not been repealed in the United Kingdom, where it still has an effect, although some sections of it have been repealed.\n"
          ]
        }
      ],
      "source": [
        "import re\n",
        "# splitting by fullstop\n",
        "def split_text_into_chunks(text, chunk_size):\n",
        "    # Split the text into sentences\n",
        "    sentences = re.split(r'(?<=[.!?]) +', text)\n",
        "\n",
        "    chunks = []\n",
        "    current_chunk = \"\"\n",
        "\n",
        "    for sentence in sentences:\n",
        "       \n",
        "        if len(current_chunk) + len(sentence) + 1 > chunk_size:\n",
        "            chunks.append(current_chunk)\n",
        "            current_chunk = sentence\n",
        "        else:\n",
        "         \n",
        "            if current_chunk:\n",
        "                current_chunk += \" \" + sentence\n",
        "            else:\n",
        "                current_chunk = sentence\n",
        "\n",
        "   \n",
        "    if current_chunk:\n",
        "        chunks.append(current_chunk)\n",
        "\n",
        "    return chunks\n",
        "\n",
        "\n",
        "chunk_size = 128\n",
        "chunks = split_text_into_chunks(t, chunk_size)\n",
        "\n",
        "print(f\"Number of chunks: {len(chunks)}\")\n",
        "for i, chunk in enumerate(chunks):\n",
        "    print(f\"Chunk {i+1}: {chunk}\")\n"
      ]
    },
    {
      "cell_type": "code",
      "execution_count": 11,
      "metadata": {
        "colab": {
          "base_uri": "https://localhost:8080/"
        },
        "id": "hlUVjSrxvnKI",
        "outputId": "197eb8e9-1cfa-4a41-bd56-151af4c39c9b"
      },
      "outputs": [
        {
          "name": "stdout",
          "output_type": "stream",
          "text": [
            "[[-0.03982544  0.05175781  0.02766418 ...  0.01696777  0.01418304\n",
            "  -0.00453186]\n",
            " [-0.02206421  0.03466797  0.05136108 ...  0.01029205  0.02354431\n",
            "   0.00243568]\n",
            " [-0.03936768  0.03186035  0.05050659 ... -0.00821686  0.02185059\n",
            "  -0.0114975 ]\n",
            " ...\n",
            " [-0.01774597  0.01589966  0.02697754 ... -0.03842163  0.03762817\n",
            "   0.00879669]\n",
            " [-0.04232788  0.02914429  0.03887939 ... -0.03128052  0.01625061\n",
            "  -0.00693512]\n",
            " [-0.04373169  0.02450562  0.03518677 ...  0.00796509 -0.00762177\n",
            "  -0.00822449]]\n"
          ]
        }
      ],
      "source": [
        "from mistralai.client import MistralClient\n",
        "from mistralai.models.chat_completion import ChatMessage\n",
        "\n",
        "# Initialize the Mistral AI client\n",
        "client = MistralClient(api_key='p3T9odnj2XtqQLiMpAfi06r8ZBUrYEnB')\n",
        "\n",
        "\n",
        "def get_text_embedding(input):\n",
        "    embeddings_batch_response = client.embeddings(\n",
        "        model=\"mistral-embed\",\n",
        "        input=input\n",
        "    )\n",
        "    return embeddings_batch_response.data[0].embedding\n",
        "\n",
        "\n",
        "text_embeddings = np.array([get_text_embedding(chunk) for chunk in chunks])\n",
        "\n",
        "print(text_embeddings)\n"
      ]
    },
    {
      "cell_type": "markdown",
      "metadata": {
        "id": "bZxSY2DL3i-U"
      },
      "source": [
        "Loading into a vector database"
      ]
    },
    {
      "cell_type": "markdown",
      "metadata": {
        "id": "xkZgVWBm3-CV"
      },
      "source": [
        "-instantiating an instance of the Index class\n",
        "-then put the embeddings in index structure"
      ]
    },
    {
      "cell_type": "code",
      "execution_count": 21,
      "metadata": {
        "id": "a0lr7UqT3hza"
      },
      "outputs": [],
      "source": [
        "import faiss\n",
        "d=text_embeddings.shape[1]\n",
        "index=faiss.IndexFlatL2(d)\n",
        "index.add(text_embeddings)"
      ]
    },
    {
      "cell_type": "markdown",
      "metadata": {
        "id": "Mw9sT66j5tXE"
      },
      "source": [
        "creating embeddings out of query\n"
      ]
    },
    {
      "cell_type": "code",
      "execution_count": 33,
      "metadata": {
        "id": "BkTD090I4Itk"
      },
      "outputs": [],
      "source": [
        "question = \"Who started as first governal general of india?\"\n",
        "question_embeddings = np.array([get_text_embedding(question)])"
      ]
    },
    {
      "cell_type": "markdown",
      "metadata": {
        "id": "eXUMEwKA42r9"
      },
      "source": [
        "Finds Euclidean distance\n"
      ]
    },
    {
      "cell_type": "code",
      "execution_count": 34,
      "metadata": {
        "id": "MGBsys1P5oaC"
      },
      "outputs": [],
      "source": [
        "D, I = index.search(question_embeddings, k=2)\n",
        "retrieved_chunk = [chunks[i] for i in I.tolist()[0]]"
      ]
    },
    {
      "cell_type": "code",
      "execution_count": 35,
      "metadata": {
        "colab": {
          "base_uri": "https://localhost:8080/"
        },
        "id": "BpfDjFM759wN",
        "outputId": "1566c3ef-2a5d-47ff-90fb-bf80cca91c1e"
      },
      "outputs": [
        {
          "data": {
            "text/plain": [
              "['Though it was technically possible for the states to remain free after 15 August, their dependence on the British government of India for defence, foreign affairs, communication and other matters rendered such freedom meaningless.[12][13]\\n\\nIndia\\nFurther information: Princely states of India and Political integration of India\\nLord Mountbatten continued as the first Governor General of independent India.',\n",
              " 'Jawaharlal Nehru became the prime minister and Vallabhbhai Patel became the home minister.\\n\\nOver 550 princely states, almost all of the states contiguous with the territory of India, acceded to India by 15 August.']"
            ]
          },
          "execution_count": 35,
          "metadata": {},
          "output_type": "execute_result"
        }
      ],
      "source": [
        "retrieved_chunk"
      ]
    },
    {
      "cell_type": "code",
      "execution_count": 36,
      "metadata": {
        "id": "6VqFkwWF-kbq"
      },
      "outputs": [],
      "source": [
        "prompt = f\"\"\"\n",
        "Context information is below.\n",
        "---------------------\n",
        "{retrieved_chunk}\n",
        "---------------------\n",
        "Given the context information and not prior knowledge, answer the query.\n",
        "Query: {question}\n",
        "Answer:\n",
        "\"\"\""
      ]
    },
    {
      "cell_type": "code",
      "execution_count": 36,
      "metadata": {
        "id": "RHZdjs1DA4sc"
      },
      "outputs": [],
      "source": []
    },
    {
      "cell_type": "markdown",
      "metadata": {
        "id": "MUl2in5UBB6Y"
      },
      "source": [
        "Give this prompt to mistral ai"
      ]
    },
    {
      "cell_type": "code",
      "execution_count": 37,
      "metadata": {
        "colab": {
          "base_uri": "https://localhost:8080/",
          "height": 35
        },
        "id": "_xoQ1mwjAotP",
        "outputId": "7f2214b4-f1d6-4bf0-9fc8-1bdf8af6030c"
      },
      "outputs": [
        {
          "data": {
            "application/vnd.google.colaboratory.intrinsic+json": {
              "type": "string"
            },
            "text/plain": [
              "'Lord Mountbatten started as the first Governor General of independent India.'"
            ]
          },
          "execution_count": 37,
          "metadata": {},
          "output_type": "execute_result"
        }
      ],
      "source": [
        "def run_mistral(user_message, model=\"mistral-medium-latest\"):\n",
        "    messages = [\n",
        "        ChatMessage(role=\"user\", content=user_message)\n",
        "    ]\n",
        "    chat_response = client.chat(\n",
        "        model=model,\n",
        "        messages=messages\n",
        "    )\n",
        "    return (chat_response.choices[0].message.content)\n",
        "\n",
        "run_mistral(prompt)"
      ]
    },
    {
      "cell_type": "code",
      "execution_count": 39,
      "metadata": {
        "id": "Xeu-WqNhDdE1"
      },
      "outputs": [],
      "source": [
        "def ans(question):\n",
        "    question_embeddings = np.array([get_text_embedding(question)])\n",
        "\n",
        "    D, I = index.search(question_embeddings, k=2)\n",
        "\n",
        "    retrieved_chunk = [chunks[i] for i in I.tolist()[0]]\n",
        "\n",
        "    prompt = f\"\"\"\n",
        "    Context information is below.\n",
        "    ---------------------\n",
        "    {retrieved_chunk}\n",
        "    ---------------------\n",
        "    Given the context information and not prior knowledge, answer the query.\n",
        "    Query: {question}\n",
        "    Answer:\n",
        "    \"\"\"\n",
        "\n",
        "\n",
        "    def run_mistral(user_message, model=\"mistral-medium-latest\"):\n",
        "        messages = [\n",
        "            ChatMessage(role=\"user\", content=user_message)\n",
        "        ]\n",
        "        chat_response = client.chat(\n",
        "            model=model,\n",
        "            messages=messages\n",
        "        )\n",
        "        return chat_response.choices[0].message.content\n",
        "\n",
        "\n",
        "    return run_mistral(prompt)\n",
        "\n",
        "\n",
        "\n"
      ]
    },
    {
      "cell_type": "code",
      "execution_count": 40,
      "metadata": {
        "colab": {
          "base_uri": "https://localhost:8080/"
        },
        "id": "8uP_QCUxEhGU",
        "outputId": "9ca9ff2f-edfb-4ce9-d81e-b6b2ccf5145a"
      },
      "outputs": [
        {
          "name": "stdout",
          "output_type": "stream",
          "text": [
            "The Nizam of Hyderabad wants Dominion status.\n"
          ]
        }
      ],
      "source": [
        "question = \"Who wants status?\"\n",
        "answer = ans(question)\n",
        "print(answer)"
      ]
    },
    {
      "cell_type": "code",
      "execution_count": 41,
      "metadata": {
        "colab": {
          "base_uri": "https://localhost:8080/"
        },
        "id": "uYVHbyRvEh9z",
        "outputId": "9e6ce300-5a61-4c0c-9fea-ec2420fb3eae"
      },
      "outputs": [
        {
          "name": "stdout",
          "output_type": "stream",
          "text": [
            "The Indian government conducted the invasion on Hyderabad, and it was called Operation Polo.\n"
          ]
        }
      ],
      "source": [
        "question = \"Who did the invasion on hyderbad and what was it called?\"\n",
        "answer = ans(question)\n",
        "print(answer)"
      ]
    }
  ],
  "metadata": {
    "accelerator": "GPU",
    "colab": {
      "gpuType": "T4",
      "provenance": []
    },
    "kernelspec": {
      "display_name": "Python 3",
      "name": "python3"
    },
    "language_info": {
      "name": "python"
    }
  },
  "nbformat": 4,
  "nbformat_minor": 0
}
